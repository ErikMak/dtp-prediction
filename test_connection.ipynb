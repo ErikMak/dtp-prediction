{
 "cells": [
  {
   "cell_type": "code",
   "execution_count": 60,
   "metadata": {},
   "outputs": [
    {
     "data": {
      "text/plain": [
       "{'prediction': 1}"
      ]
     },
     "execution_count": 60,
     "metadata": {},
     "output_type": "execute_result"
    }
   ],
   "source": [
    "import requests\n",
    "\n",
    "to_predict_dict_2 = {'peop_in_car': 1, 'exp': 10, 'city': 0, 'highway': 1, 'gender': 0, 'speed': 1,\n",
    "       'op_way': 0, 'give_way': 0, 'red_light': 0, 'bad_grip': 1,\n",
    "       'bad_visibility': 1, 'houses': 0, 'r_roadcross': 0, 'nr_roadcross': 0,\n",
    "       'industry': 0, 'mall': 0, 'rwd': 1, 'awd': 0, 'fwd': 0, 'weight': 2000,\n",
    "       'power': 200, 'vehicle_age': 16, 'month': 6, 'd_week': 2, 'time_of_day': 4,\n",
    "       'distance': 40.972839, 'medium': 0, 'spacious': 0, 'heavy': 1, 'small': 0}\n",
    "\n",
    "url = 'http://127.0.0.1:8000/predict'\n",
    "r = requests.post(url,json=to_predict_dict_2); r.json()"
   ]
  }
 ],
 "metadata": {
  "kernelspec": {
   "display_name": "Python 3",
   "language": "python",
   "name": "python3"
  },
  "language_info": {
   "codemirror_mode": {
    "name": "ipython",
    "version": 3
   },
   "file_extension": ".py",
   "mimetype": "text/x-python",
   "name": "python",
   "nbconvert_exporter": "python",
   "pygments_lexer": "ipython3",
   "version": "3.12.0"
  }
 },
 "nbformat": 4,
 "nbformat_minor": 2
}
